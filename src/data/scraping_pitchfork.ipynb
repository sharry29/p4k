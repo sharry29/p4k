{
 "cells": [
  {
   "cell_type": "markdown",
   "metadata": {},
   "source": [
    "# Scraping Pitchfork's \"The 200 Best Songs of the 2010s List\""
   ]
  },
  {
   "cell_type": "code",
   "execution_count": 1,
   "metadata": {},
   "outputs": [],
   "source": [
    "import requests as re\n",
    "import pandas as pd\n",
    "from bs4 import BeautifulSoup"
   ]
  },
  {
   "cell_type": "markdown",
   "metadata": {},
   "source": [
    "## Scraping the HTML"
   ]
  },
  {
   "cell_type": "code",
   "execution_count": 3,
   "metadata": {},
   "outputs": [],
   "source": [
    "URL = \"https://pitchfork.com/features/lists-and-guides/the-200-best-songs-of-the-2010s/\"\n",
    "response = re.get(URL).text\n",
    "document = BeautifulSoup(response, 'html.parser')"
   ]
  },
  {
   "cell_type": "markdown",
   "metadata": {},
   "source": [
    "### Artist Name, Song Name, Release Year"
   ]
  },
  {
   "cell_type": "code",
   "execution_count": 4,
   "metadata": {},
   "outputs": [],
   "source": [
    "songs = pd.Series(map(lambda t : t.text, document.find_all('h2')))\n",
    "songs.name = 'artist_song_year'"
   ]
  },
  {
   "cell_type": "markdown",
   "metadata": {},
   "source": [
    "### Rank"
   ]
  },
  {
   "cell_type": "code",
   "execution_count": 5,
   "metadata": {},
   "outputs": [],
   "source": [
    "ranks = pd.Series(map(lambda t : t.text, document.find_all('h3')))\n",
    "ranks.name = 'rank'"
   ]
  },
  {
   "cell_type": "markdown",
   "metadata": {},
   "source": [
    "### Label"
   ]
  },
  {
   "cell_type": "code",
   "execution_count": 6,
   "metadata": {},
   "outputs": [],
   "source": [
    "labels = pd.Series(map(lambda t : t.text.strip(), document.find_all('span', class_ = 'caption__text')))\n",
    "labels.name = 'label'"
   ]
  },
  {
   "cell_type": "markdown",
   "metadata": {},
   "source": [
    "### Images"
   ]
  },
  {
   "cell_type": "code",
   "execution_count": 7,
   "metadata": {},
   "outputs": [],
   "source": [
    "#only find the images actually in the article (not the logo)\n",
    "article_body = document.find('div', class_='article__chunks')\n",
    "images = pd.Series(map(lambda t : t['srcset'], article_body.find_all('img', class_ = 'responsive-image__image')))\n",
    "images.name = 'image_string'"
   ]
  },
  {
   "cell_type": "markdown",
   "metadata": {},
   "source": [
    "## Consolidation & Cleaning"
   ]
  },
  {
   "cell_type": "code",
   "execution_count": 8,
   "metadata": {},
   "outputs": [],
   "source": [
    "raw_df = pd.DataFrame(zip(songs, ranks, labels, images), columns=[songs.name, ranks.name, labels.name, images.name])"
   ]
  },
  {
   "cell_type": "code",
   "execution_count": 9,
   "metadata": {},
   "outputs": [
    {
     "data": {
      "text/html": [
       "<div>\n",
       "<style scoped>\n",
       "    .dataframe tbody tr th:only-of-type {\n",
       "        vertical-align: middle;\n",
       "    }\n",
       "\n",
       "    .dataframe tbody tr th {\n",
       "        vertical-align: top;\n",
       "    }\n",
       "\n",
       "    .dataframe thead th {\n",
       "        text-align: right;\n",
       "    }\n",
       "</style>\n",
       "<table border=\"1\" class=\"dataframe\">\n",
       "  <thead>\n",
       "    <tr style=\"text-align: right;\">\n",
       "      <th></th>\n",
       "      <th>artist_song_year</th>\n",
       "      <th>rank</th>\n",
       "      <th>label</th>\n",
       "      <th>image_string</th>\n",
       "    </tr>\n",
       "  </thead>\n",
       "  <tbody>\n",
       "    <tr>\n",
       "      <th>0</th>\n",
       "      <td>Avicii: “Levels” (2011)</td>\n",
       "      <td>200.</td>\n",
       "      <td>Universal</td>\n",
       "      <td>https://media.pitchfork.com/photos/5d6fdbf4b34...</td>\n",
       "    </tr>\n",
       "    <tr>\n",
       "      <th>1</th>\n",
       "      <td>Stormzy: “Big for Your Boots” (2017)</td>\n",
       "      <td>199.</td>\n",
       "      <td>#Merky</td>\n",
       "      <td>https://media.pitchfork.com/photos/5d6fdb02240...</td>\n",
       "    </tr>\n",
       "    <tr>\n",
       "      <th>2</th>\n",
       "      <td>dvsn: “The Line” (2016)</td>\n",
       "      <td>198.</td>\n",
       "      <td>Self-released</td>\n",
       "      <td>https://media.pitchfork.com/photos/5d6fdc66b6c...</td>\n",
       "    </tr>\n",
       "    <tr>\n",
       "      <th>3</th>\n",
       "      <td>Icona Pop: “I Love It” [ft. Charli XCX] (2012)</td>\n",
       "      <td>197.</td>\n",
       "      <td>Record Company Ten/Big Beat Records</td>\n",
       "      <td>https://media.pitchfork.com/photos/5d6fd8b0613...</td>\n",
       "    </tr>\n",
       "    <tr>\n",
       "      <th>4</th>\n",
       "      <td>John Maus: “Believer” (2011)</td>\n",
       "      <td>196.</td>\n",
       "      <td>Ribbon Music/Upset the Rhythm</td>\n",
       "      <td>https://media.pitchfork.com/photos/5d6fdd8bb34...</td>\n",
       "    </tr>\n",
       "  </tbody>\n",
       "</table>\n",
       "</div>"
      ],
      "text/plain": [
       "                                 artist_song_year  rank  \\\n",
       "0                         Avicii: “Levels” (2011)  200.   \n",
       "1            Stormzy: “Big for Your Boots” (2017)  199.   \n",
       "2                         dvsn: “The Line” (2016)  198.   \n",
       "3  Icona Pop: “I Love It” [ft. Charli XCX] (2012)  197.   \n",
       "4                    John Maus: “Believer” (2011)  196.   \n",
       "\n",
       "                                 label  \\\n",
       "0                            Universal   \n",
       "1                               #Merky   \n",
       "2                        Self-released   \n",
       "3  Record Company Ten/Big Beat Records   \n",
       "4        Ribbon Music/Upset the Rhythm   \n",
       "\n",
       "                                        image_string  \n",
       "0  https://media.pitchfork.com/photos/5d6fdbf4b34...  \n",
       "1  https://media.pitchfork.com/photos/5d6fdb02240...  \n",
       "2  https://media.pitchfork.com/photos/5d6fdc66b6c...  \n",
       "3  https://media.pitchfork.com/photos/5d6fd8b0613...  \n",
       "4  https://media.pitchfork.com/photos/5d6fdd8bb34...  "
      ]
     },
     "execution_count": 9,
     "metadata": {},
     "output_type": "execute_result"
    }
   ],
   "source": [
    "raw_df.head()"
   ]
  },
  {
   "cell_type": "markdown",
   "metadata": {},
   "source": [
    "### Parse the rank as a number"
   ]
  },
  {
   "cell_type": "code",
   "execution_count": 10,
   "metadata": {},
   "outputs": [],
   "source": [
    "raw_df['rank'] = raw_df['rank'].str.replace('.', '').astype(int)"
   ]
  },
  {
   "cell_type": "code",
   "execution_count": 11,
   "metadata": {},
   "outputs": [],
   "source": [
    "indexed_df = raw_df.set_index('rank')"
   ]
  },
  {
   "cell_type": "markdown",
   "metadata": {},
   "source": [
    "### Extracting the artist, song, and year information from the scraped titles."
   ]
  },
  {
   "cell_type": "code",
   "execution_count": 12,
   "metadata": {},
   "outputs": [],
   "source": [
    "regexp = r'(?P<artist>.*): (?P<song>.*) \\((?P<year>201\\d)\\)'"
   ]
  },
  {
   "cell_type": "code",
   "execution_count": 13,
   "metadata": {},
   "outputs": [],
   "source": [
    "indexed_extracted_df = indexed_df.artist_song_year.str.extract(regexp)"
   ]
  },
  {
   "cell_type": "code",
   "execution_count": 14,
   "metadata": {},
   "outputs": [],
   "source": [
    "df = pd.merge(indexed_extracted_df, indexed_df, left_index=True, right_index=True).drop(\"artist_song_year\", axis=1)"
   ]
  },
  {
   "cell_type": "markdown",
   "metadata": {},
   "source": [
    "### Generalizing the hosted image link"
   ]
  },
  {
   "cell_type": "code",
   "execution_count": 15,
   "metadata": {},
   "outputs": [],
   "source": [
    "df['img_link'] = df.image_string.str.split(r\" \\d{3,4}w, \", n=1, expand=False).apply(lambda l : l[0]).str.replace(r\"w_\\d{3,4}\", \"{}\")"
   ]
  },
  {
   "cell_type": "code",
   "execution_count": 16,
   "metadata": {},
   "outputs": [],
   "source": [
    "df = df.drop(\"image_string\", axis=1)"
   ]
  },
  {
   "cell_type": "code",
   "execution_count": 17,
   "metadata": {},
   "outputs": [],
   "source": [
    "df['song'] = df.song.str.replace(r\"[‘’]\", \"'\")"
   ]
  },
  {
   "cell_type": "code",
   "execution_count": 18,
   "metadata": {},
   "outputs": [],
   "source": [
    "df['song'] = df.song.str.replace(r\"[^a-zA-Z0-9\\.\\[\\]\\-\\&$é'‘’ ]\", \"\")"
   ]
  },
  {
   "cell_type": "markdown",
   "metadata": {},
   "source": [
    "### Identifying the featured artists on songs"
   ]
  },
  {
   "cell_type": "code",
   "execution_count": 20,
   "metadata": {},
   "outputs": [],
   "source": [
    "df['features'] = df['song'].str.extract(r'\\[ft\\. (?P<features>.*)\\]')\n",
    "df['has_feature'] = ~df.features.isna()"
   ]
  },
  {
   "cell_type": "code",
   "execution_count": 21,
   "metadata": {},
   "outputs": [
    {
     "data": {
      "text/html": [
       "<div>\n",
       "<style scoped>\n",
       "    .dataframe tbody tr th:only-of-type {\n",
       "        vertical-align: middle;\n",
       "    }\n",
       "\n",
       "    .dataframe tbody tr th {\n",
       "        vertical-align: top;\n",
       "    }\n",
       "\n",
       "    .dataframe thead th {\n",
       "        text-align: right;\n",
       "    }\n",
       "</style>\n",
       "<table border=\"1\" class=\"dataframe\">\n",
       "  <thead>\n",
       "    <tr style=\"text-align: right;\">\n",
       "      <th></th>\n",
       "      <th>artist</th>\n",
       "      <th>song</th>\n",
       "      <th>year</th>\n",
       "      <th>label</th>\n",
       "      <th>img_link</th>\n",
       "      <th>features</th>\n",
       "      <th>has_feature</th>\n",
       "    </tr>\n",
       "    <tr>\n",
       "      <th>rank</th>\n",
       "      <th></th>\n",
       "      <th></th>\n",
       "      <th></th>\n",
       "      <th></th>\n",
       "      <th></th>\n",
       "      <th></th>\n",
       "      <th></th>\n",
       "    </tr>\n",
       "  </thead>\n",
       "  <tbody>\n",
       "    <tr>\n",
       "      <th>200</th>\n",
       "      <td>Avicii</td>\n",
       "      <td>Levels</td>\n",
       "      <td>2011</td>\n",
       "      <td>Universal</td>\n",
       "      <td>https://media.pitchfork.com/photos/5d6fdbf4b34...</td>\n",
       "      <td>NaN</td>\n",
       "      <td>False</td>\n",
       "    </tr>\n",
       "    <tr>\n",
       "      <th>199</th>\n",
       "      <td>Stormzy</td>\n",
       "      <td>Big for Your Boots</td>\n",
       "      <td>2017</td>\n",
       "      <td>#Merky</td>\n",
       "      <td>https://media.pitchfork.com/photos/5d6fdb02240...</td>\n",
       "      <td>NaN</td>\n",
       "      <td>False</td>\n",
       "    </tr>\n",
       "    <tr>\n",
       "      <th>198</th>\n",
       "      <td>dvsn</td>\n",
       "      <td>The Line</td>\n",
       "      <td>2016</td>\n",
       "      <td>Self-released</td>\n",
       "      <td>https://media.pitchfork.com/photos/5d6fdc66b6c...</td>\n",
       "      <td>NaN</td>\n",
       "      <td>False</td>\n",
       "    </tr>\n",
       "    <tr>\n",
       "      <th>197</th>\n",
       "      <td>Icona Pop</td>\n",
       "      <td>I Love It [ft. Charli XCX]</td>\n",
       "      <td>2012</td>\n",
       "      <td>Record Company Ten/Big Beat Records</td>\n",
       "      <td>https://media.pitchfork.com/photos/5d6fd8b0613...</td>\n",
       "      <td>Charli XCX</td>\n",
       "      <td>True</td>\n",
       "    </tr>\n",
       "    <tr>\n",
       "      <th>196</th>\n",
       "      <td>John Maus</td>\n",
       "      <td>Believer</td>\n",
       "      <td>2011</td>\n",
       "      <td>Ribbon Music/Upset the Rhythm</td>\n",
       "      <td>https://media.pitchfork.com/photos/5d6fdd8bb34...</td>\n",
       "      <td>NaN</td>\n",
       "      <td>False</td>\n",
       "    </tr>\n",
       "  </tbody>\n",
       "</table>\n",
       "</div>"
      ],
      "text/plain": [
       "         artist                        song  year  \\\n",
       "rank                                                \n",
       "200      Avicii                      Levels  2011   \n",
       "199     Stormzy          Big for Your Boots  2017   \n",
       "198        dvsn                    The Line  2016   \n",
       "197   Icona Pop  I Love It [ft. Charli XCX]  2012   \n",
       "196   John Maus                    Believer  2011   \n",
       "\n",
       "                                    label  \\\n",
       "rank                                        \n",
       "200                             Universal   \n",
       "199                                #Merky   \n",
       "198                         Self-released   \n",
       "197   Record Company Ten/Big Beat Records   \n",
       "196         Ribbon Music/Upset the Rhythm   \n",
       "\n",
       "                                               img_link    features  \\\n",
       "rank                                                                  \n",
       "200   https://media.pitchfork.com/photos/5d6fdbf4b34...         NaN   \n",
       "199   https://media.pitchfork.com/photos/5d6fdb02240...         NaN   \n",
       "198   https://media.pitchfork.com/photos/5d6fdc66b6c...         NaN   \n",
       "197   https://media.pitchfork.com/photos/5d6fd8b0613...  Charli XCX   \n",
       "196   https://media.pitchfork.com/photos/5d6fdd8bb34...         NaN   \n",
       "\n",
       "      has_feature  \n",
       "rank               \n",
       "200         False  \n",
       "199         False  \n",
       "198         False  \n",
       "197          True  \n",
       "196         False  "
      ]
     },
     "execution_count": 21,
     "metadata": {},
     "output_type": "execute_result"
    }
   ],
   "source": [
    "df.head()"
   ]
  },
  {
   "cell_type": "code",
   "execution_count": 22,
   "metadata": {},
   "outputs": [],
   "source": [
    "df.to_csv(\"../site/src/data/p4k_top200_2010.csv\", index=True)"
   ]
  },
  {
   "cell_type": "markdown",
   "metadata": {},
   "source": [
    "### Extracting the labels for each song"
   ]
  },
  {
   "cell_type": "code",
   "execution_count": 23,
   "metadata": {},
   "outputs": [],
   "source": [
    "label_df = pd.merge(df[['artist', 'song', 'year']], df['label'].str.split(\"/\", expand=True), left_index=True, right_index=True)"
   ]
  },
  {
   "cell_type": "code",
   "execution_count": null,
   "metadata": {},
   "outputs": [],
   "source": []
  },
  {
   "cell_type": "code",
   "execution_count": 24,
   "metadata": {},
   "outputs": [],
   "source": [
    "x = label_df.melt(id_vars=['artist', 'song', 'year'], value_vars=[0, 1, 2])\n",
    "singleton_label_df = x.dropna().drop('variable', axis=1).rename({'value' : 'label'})"
   ]
  },
  {
   "cell_type": "code",
   "execution_count": 25,
   "metadata": {},
   "outputs": [],
   "source": [
    "label_df.to_csv(\"../site/src/data/top200_labels.csv\", index=True)"
   ]
  },
  {
   "cell_type": "code",
   "execution_count": 28,
   "metadata": {},
   "outputs": [
    {
     "data": {
      "text/html": [
       "<div>\n",
       "<style scoped>\n",
       "    .dataframe tbody tr th:only-of-type {\n",
       "        vertical-align: middle;\n",
       "    }\n",
       "\n",
       "    .dataframe tbody tr th {\n",
       "        vertical-align: top;\n",
       "    }\n",
       "\n",
       "    .dataframe thead th {\n",
       "        text-align: right;\n",
       "    }\n",
       "</style>\n",
       "<table border=\"1\" class=\"dataframe\">\n",
       "  <thead>\n",
       "    <tr style=\"text-align: right;\">\n",
       "      <th></th>\n",
       "      <th>artist</th>\n",
       "      <th>song</th>\n",
       "      <th>year</th>\n",
       "      <th>0</th>\n",
       "      <th>1</th>\n",
       "      <th>2</th>\n",
       "    </tr>\n",
       "    <tr>\n",
       "      <th>rank</th>\n",
       "      <th></th>\n",
       "      <th></th>\n",
       "      <th></th>\n",
       "      <th></th>\n",
       "      <th></th>\n",
       "      <th></th>\n",
       "    </tr>\n",
       "  </thead>\n",
       "  <tbody>\n",
       "    <tr>\n",
       "      <th>200</th>\n",
       "      <td>Avicii</td>\n",
       "      <td>Levels</td>\n",
       "      <td>2011</td>\n",
       "      <td>Universal</td>\n",
       "      <td>None</td>\n",
       "      <td>None</td>\n",
       "    </tr>\n",
       "    <tr>\n",
       "      <th>199</th>\n",
       "      <td>Stormzy</td>\n",
       "      <td>Big for Your Boots</td>\n",
       "      <td>2017</td>\n",
       "      <td>#Merky</td>\n",
       "      <td>None</td>\n",
       "      <td>None</td>\n",
       "    </tr>\n",
       "    <tr>\n",
       "      <th>198</th>\n",
       "      <td>dvsn</td>\n",
       "      <td>The Line</td>\n",
       "      <td>2016</td>\n",
       "      <td>Self-released</td>\n",
       "      <td>None</td>\n",
       "      <td>None</td>\n",
       "    </tr>\n",
       "    <tr>\n",
       "      <th>197</th>\n",
       "      <td>Icona Pop</td>\n",
       "      <td>I Love It [ft. Charli XCX]</td>\n",
       "      <td>2012</td>\n",
       "      <td>Record Company Ten</td>\n",
       "      <td>Big Beat Records</td>\n",
       "      <td>None</td>\n",
       "    </tr>\n",
       "    <tr>\n",
       "      <th>196</th>\n",
       "      <td>John Maus</td>\n",
       "      <td>Believer</td>\n",
       "      <td>2011</td>\n",
       "      <td>Ribbon Music</td>\n",
       "      <td>Upset the Rhythm</td>\n",
       "      <td>None</td>\n",
       "    </tr>\n",
       "  </tbody>\n",
       "</table>\n",
       "</div>"
      ],
      "text/plain": [
       "         artist                        song  year                   0  \\\n",
       "rank                                                                    \n",
       "200      Avicii                      Levels  2011           Universal   \n",
       "199     Stormzy          Big for Your Boots  2017              #Merky   \n",
       "198        dvsn                    The Line  2016       Self-released   \n",
       "197   Icona Pop  I Love It [ft. Charli XCX]  2012  Record Company Ten   \n",
       "196   John Maus                    Believer  2011        Ribbon Music   \n",
       "\n",
       "                     1     2  \n",
       "rank                          \n",
       "200               None  None  \n",
       "199               None  None  \n",
       "198               None  None  \n",
       "197   Big Beat Records  None  \n",
       "196   Upset the Rhythm  None  "
      ]
     },
     "execution_count": 28,
     "metadata": {},
     "output_type": "execute_result"
    }
   ],
   "source": [
    "label_df.head()"
   ]
  },
  {
   "cell_type": "code",
   "execution_count": 29,
   "metadata": {},
   "outputs": [
    {
     "data": {
      "text/plain": [
       "XL               6\n",
       "Columbia         6\n",
       "4AD              5\n",
       "Interscope       5\n",
       "Self-released    4\n",
       "G.O.O.D.         3\n",
       "Def Jam          3\n",
       "Cash Money       3\n",
       "Merge            3\n",
       "Jagjaguwar       2\n",
       "Name: 0, dtype: int64"
      ]
     },
     "execution_count": 29,
     "metadata": {},
     "output_type": "execute_result"
    }
   ],
   "source": [
    "label_df[0][label_df.index <= 100].value_counts().head(10)"
   ]
  },
  {
   "cell_type": "code",
   "execution_count": 30,
   "metadata": {},
   "outputs": [
    {
     "data": {
      "text/plain": [
       "Republic    2\n",
       "Top Dawg    2\n",
       "DFA         1\n",
       "Mute        1\n",
       "Name: 2, dtype: int64"
      ]
     },
     "execution_count": 30,
     "metadata": {},
     "output_type": "execute_result"
    }
   ],
   "source": [
    "label_df[2][label_df.index <= 100].value_counts()"
   ]
  },
  {
   "cell_type": "code",
   "execution_count": 31,
   "metadata": {},
   "outputs": [],
   "source": [
    "label_list = set(label_df[0].unique()) | set(label_df[1].unique()) | set(label_df[2].unique())\n"
   ]
  },
  {
   "cell_type": "code",
   "execution_count": 32,
   "metadata": {},
   "outputs": [],
   "source": [
    "t = pd.DataFrame([label_df[0].value_counts(), label_df[1].value_counts(), label_df[2].value_counts()])\n"
   ]
  },
  {
   "cell_type": "code",
   "execution_count": 33,
   "metadata": {},
   "outputs": [],
   "source": [
    "st = t.fillna(0).sum().sort_values(ascending=False)"
   ]
  },
  {
   "cell_type": "code",
   "execution_count": 34,
   "metadata": {},
   "outputs": [
    {
     "data": {
      "text/plain": [
       "Columbia          12.0\n",
       "Interscope        12.0\n",
       "XL                11.0\n",
       "Self-released      9.0\n",
       "RCA                9.0\n",
       "Republic           9.0\n",
       "Def Jam            8.0\n",
       "Cash Money         8.0\n",
       "Epic               7.0\n",
       "Atlantic           6.0\n",
       "4AD                6.0\n",
       "Young Turks        5.0\n",
       "Matador            5.0\n",
       "Young Money        5.0\n",
       "Top Dawg           4.0\n",
       "Drag City          3.0\n",
       "Island Def Jam     3.0\n",
       "Sony               3.0\n",
       "G.O.O.D.           3.0\n",
       "Merge              3.0\n",
       "Aftermath          3.0\n",
       "Jagjaguwar         3.0\n",
       "Konichiwa          3.0\n",
       "dtype: float64"
      ]
     },
     "execution_count": 34,
     "metadata": {},
     "output_type": "execute_result"
    }
   ],
   "source": [
    "st[st > 2]"
   ]
  },
  {
   "cell_type": "code",
   "execution_count": 35,
   "metadata": {},
   "outputs": [
    {
     "data": {
      "text/plain": [
       "120"
      ]
     },
     "execution_count": 35,
     "metadata": {},
     "output_type": "execute_result"
    }
   ],
   "source": [
    "len(st)"
   ]
  },
  {
   "cell_type": "code",
   "execution_count": 36,
   "metadata": {},
   "outputs": [
    {
     "data": {
      "text/html": [
       "<div>\n",
       "<style scoped>\n",
       "    .dataframe tbody tr th:only-of-type {\n",
       "        vertical-align: middle;\n",
       "    }\n",
       "\n",
       "    .dataframe tbody tr th {\n",
       "        vertical-align: top;\n",
       "    }\n",
       "\n",
       "    .dataframe thead th {\n",
       "        text-align: right;\n",
       "    }\n",
       "</style>\n",
       "<table border=\"1\" class=\"dataframe\">\n",
       "  <thead>\n",
       "    <tr style=\"text-align: right;\">\n",
       "      <th></th>\n",
       "      <th>artist</th>\n",
       "      <th>song</th>\n",
       "      <th>year</th>\n",
       "      <th>0</th>\n",
       "      <th>1</th>\n",
       "      <th>2</th>\n",
       "    </tr>\n",
       "    <tr>\n",
       "      <th>rank</th>\n",
       "      <th></th>\n",
       "      <th></th>\n",
       "      <th></th>\n",
       "      <th></th>\n",
       "      <th></th>\n",
       "      <th></th>\n",
       "    </tr>\n",
       "  </thead>\n",
       "  <tbody>\n",
       "    <tr>\n",
       "      <th>200</th>\n",
       "      <td>Avicii</td>\n",
       "      <td>Levels</td>\n",
       "      <td>2011</td>\n",
       "      <td>Universal</td>\n",
       "      <td>None</td>\n",
       "      <td>None</td>\n",
       "    </tr>\n",
       "    <tr>\n",
       "      <th>199</th>\n",
       "      <td>Stormzy</td>\n",
       "      <td>Big for Your Boots</td>\n",
       "      <td>2017</td>\n",
       "      <td>#Merky</td>\n",
       "      <td>None</td>\n",
       "      <td>None</td>\n",
       "    </tr>\n",
       "    <tr>\n",
       "      <th>198</th>\n",
       "      <td>dvsn</td>\n",
       "      <td>The Line</td>\n",
       "      <td>2016</td>\n",
       "      <td>Self-released</td>\n",
       "      <td>None</td>\n",
       "      <td>None</td>\n",
       "    </tr>\n",
       "    <tr>\n",
       "      <th>197</th>\n",
       "      <td>Icona Pop</td>\n",
       "      <td>I Love It [ft. Charli XCX]</td>\n",
       "      <td>2012</td>\n",
       "      <td>Record Company Ten</td>\n",
       "      <td>Big Beat Records</td>\n",
       "      <td>None</td>\n",
       "    </tr>\n",
       "    <tr>\n",
       "      <th>196</th>\n",
       "      <td>John Maus</td>\n",
       "      <td>Believer</td>\n",
       "      <td>2011</td>\n",
       "      <td>Ribbon Music</td>\n",
       "      <td>Upset the Rhythm</td>\n",
       "      <td>None</td>\n",
       "    </tr>\n",
       "  </tbody>\n",
       "</table>\n",
       "</div>"
      ],
      "text/plain": [
       "         artist                        song  year                   0  \\\n",
       "rank                                                                    \n",
       "200      Avicii                      Levels  2011           Universal   \n",
       "199     Stormzy          Big for Your Boots  2017              #Merky   \n",
       "198        dvsn                    The Line  2016       Self-released   \n",
       "197   Icona Pop  I Love It [ft. Charli XCX]  2012  Record Company Ten   \n",
       "196   John Maus                    Believer  2011        Ribbon Music   \n",
       "\n",
       "                     1     2  \n",
       "rank                          \n",
       "200               None  None  \n",
       "199               None  None  \n",
       "198               None  None  \n",
       "197   Big Beat Records  None  \n",
       "196   Upset the Rhythm  None  "
      ]
     },
     "execution_count": 36,
     "metadata": {},
     "output_type": "execute_result"
    }
   ],
   "source": [
    "label_df.head()"
   ]
  },
  {
   "cell_type": "markdown",
   "metadata": {},
   "source": [
    "### Counting artist appearances"
   ]
  },
  {
   "cell_type": "code",
   "execution_count": 38,
   "metadata": {},
   "outputs": [
    {
     "data": {
      "text/plain": [
       "rank\n",
       "173       DJ Khaled\n",
       "138           Drake\n",
       "118    Travis Scott\n",
       "109           Drake\n",
       "65            Drake\n",
       "21            Drake\n",
       "15          Rihanna\n",
       "Name: artist, dtype: object"
      ]
     },
     "execution_count": 38,
     "metadata": {},
     "output_type": "execute_result"
    }
   ],
   "source": [
    "df.artist[df.artist.str.contains(\"Drake\", regex=False) | df.features.str.contains(\"Drake\", regex=False)]"
   ]
  },
  {
   "cell_type": "code",
   "execution_count": 39,
   "metadata": {},
   "outputs": [],
   "source": [
    "artists = df.artist.drop_duplicates()\n",
    "artist_df = pd.DataFrame(artists).reset_index().drop(\"rank\", axis=1)"
   ]
  },
  {
   "cell_type": "code",
   "execution_count": 69,
   "metadata": {},
   "outputs": [],
   "source": [
    "appearances = artist_df.artist.apply(lambda a : len(df.artist[df['artist'].isin([a]) | df.features.str.contains(a, regex=False)]))\n",
    "appearances_no_ft = artist_df.artist.apply(lambda a : len(df.artist[df.artist.isin([a])]))\n"
   ]
  },
  {
   "cell_type": "code",
   "execution_count": 70,
   "metadata": {},
   "outputs": [],
   "source": [
    "artist_df['appearances'] = appearances"
   ]
  },
  {
   "cell_type": "code",
   "execution_count": 70,
   "metadata": {},
   "outputs": [],
   "source": [
    "artist_df['appearances_no_ft'] = appearances_no_ft"
   ]
  },
  {
   "cell_type": "code",
   "execution_count": 71,
   "metadata": {},
   "outputs": [],
   "source": [
    "artist_df.to_csv(\"../site/src/data/artist_counts.csv\", index=False)"
   ]
  },
  {
   "cell_type": "code",
   "execution_count": 72,
   "metadata": {},
   "outputs": [
    {
     "data": {
      "text/plain": [
       "['Drake',\n",
       " 'Beyoncé',\n",
       " 'Frank Ocean',\n",
       " 'Nicki Minaj',\n",
       " 'Kanye West',\n",
       " 'Rihanna',\n",
       " 'Future',\n",
       " 'Charli XCX',\n",
       " 'Rick Ross',\n",
       " 'Robyn']"
      ]
     },
     "execution_count": 72,
     "metadata": {},
     "output_type": "execute_result"
    }
   ],
   "source": [
    "list(artist_df.nlargest(10, ['appearances']).artist)"
   ]
  },
  {
   "cell_type": "code",
   "execution_count": 82,
   "metadata": {},
   "outputs": [
    {
     "data": {
      "text/plain": [
       "[7, 5, 4, 4, 4, 4, 3, 3, 3, 3]"
      ]
     },
     "execution_count": 82,
     "metadata": {},
     "output_type": "execute_result"
    }
   ],
   "source": [
    "list(artist_df.nlargest(10, ['appearances']).appearances)"
   ]
  },
  {
   "cell_type": "code",
   "execution_count": 1,
   "metadata": {},
   "outputs": [],
   "source": [
    "import pandas as pd\n",
    "df = pd.read_csv(\"../site/src/data/artist_counts.csv\")"
   ]
  },
  {
   "cell_type": "code",
   "execution_count": 18,
   "metadata": {},
   "outputs": [
    {
     "name": "stderr",
     "output_type": "stream",
     "text": [
      "/Users/harry/.pyenv/versions/3.7.1/lib/python3.7/site-packages/ipykernel_launcher.py:1: UserWarning: Boolean Series key will be reindexed to match DataFrame index.\n",
      "  \"\"\"Entry point for launching an IPython kernel.\n"
     ]
    },
    {
     "data": {
      "text/html": [
       "<div>\n",
       "<style scoped>\n",
       "    .dataframe tbody tr th:only-of-type {\n",
       "        vertical-align: middle;\n",
       "    }\n",
       "\n",
       "    .dataframe tbody tr th {\n",
       "        vertical-align: top;\n",
       "    }\n",
       "\n",
       "    .dataframe thead th {\n",
       "        text-align: right;\n",
       "    }\n",
       "</style>\n",
       "<table border=\"1\" class=\"dataframe\">\n",
       "  <thead>\n",
       "    <tr style=\"text-align: right;\">\n",
       "      <th></th>\n",
       "      <th>artist</th>\n",
       "      <th>appearances</th>\n",
       "      <th>appearances_no_ft</th>\n",
       "    </tr>\n",
       "  </thead>\n",
       "  <tbody>\n",
       "    <tr>\n",
       "      <th>60</th>\n",
       "      <td>Drake</td>\n",
       "      <td>7</td>\n",
       "      <td>4</td>\n",
       "    </tr>\n",
       "    <tr>\n",
       "      <th>18</th>\n",
       "      <td>Beyoncé</td>\n",
       "      <td>5</td>\n",
       "      <td>4</td>\n",
       "    </tr>\n",
       "    <tr>\n",
       "      <th>44</th>\n",
       "      <td>Kanye West</td>\n",
       "      <td>4</td>\n",
       "      <td>4</td>\n",
       "    </tr>\n",
       "    <tr>\n",
       "      <th>56</th>\n",
       "      <td>Rihanna</td>\n",
       "      <td>4</td>\n",
       "      <td>4</td>\n",
       "    </tr>\n",
       "    <tr>\n",
       "      <th>25</th>\n",
       "      <td>Nicki Minaj</td>\n",
       "      <td>4</td>\n",
       "      <td>3</td>\n",
       "    </tr>\n",
       "    <tr>\n",
       "      <th>16</th>\n",
       "      <td>Frank Ocean</td>\n",
       "      <td>4</td>\n",
       "      <td>4</td>\n",
       "    </tr>\n",
       "    <tr>\n",
       "      <th>55</th>\n",
       "      <td>Rick Ross</td>\n",
       "      <td>3</td>\n",
       "      <td>1</td>\n",
       "    </tr>\n",
       "    <tr>\n",
       "      <th>63</th>\n",
       "      <td>Robyn</td>\n",
       "      <td>3</td>\n",
       "      <td>3</td>\n",
       "    </tr>\n",
       "    <tr>\n",
       "      <th>12</th>\n",
       "      <td>Future</td>\n",
       "      <td>3</td>\n",
       "      <td>3</td>\n",
       "    </tr>\n",
       "    <tr>\n",
       "      <th>53</th>\n",
       "      <td>Charli XCX</td>\n",
       "      <td>3</td>\n",
       "      <td>2</td>\n",
       "    </tr>\n",
       "    <tr>\n",
       "      <th>90</th>\n",
       "      <td>Kendrick Lamar</td>\n",
       "      <td>3</td>\n",
       "      <td>3</td>\n",
       "    </tr>\n",
       "    <tr>\n",
       "      <th>122</th>\n",
       "      <td>FKA twigs</td>\n",
       "      <td>2</td>\n",
       "      <td>2</td>\n",
       "    </tr>\n",
       "    <tr>\n",
       "      <th>42</th>\n",
       "      <td>Waka Flocka Flame</td>\n",
       "      <td>2</td>\n",
       "      <td>1</td>\n",
       "    </tr>\n",
       "    <tr>\n",
       "      <th>32</th>\n",
       "      <td>King Krule</td>\n",
       "      <td>2</td>\n",
       "      <td>2</td>\n",
       "    </tr>\n",
       "    <tr>\n",
       "      <th>67</th>\n",
       "      <td>A$AP Rocky</td>\n",
       "      <td>2</td>\n",
       "      <td>1</td>\n",
       "    </tr>\n",
       "    <tr>\n",
       "      <th>113</th>\n",
       "      <td>Lana Del Rey</td>\n",
       "      <td>2</td>\n",
       "      <td>2</td>\n",
       "    </tr>\n",
       "    <tr>\n",
       "      <th>29</th>\n",
       "      <td>Adele</td>\n",
       "      <td>2</td>\n",
       "      <td>2</td>\n",
       "    </tr>\n",
       "    <tr>\n",
       "      <th>76</th>\n",
       "      <td>Justin Bieber</td>\n",
       "      <td>2</td>\n",
       "      <td>1</td>\n",
       "    </tr>\n",
       "    <tr>\n",
       "      <th>162</th>\n",
       "      <td>Lil Uzi Vert</td>\n",
       "      <td>2</td>\n",
       "      <td>1</td>\n",
       "    </tr>\n",
       "    <tr>\n",
       "      <th>58</th>\n",
       "      <td>Rae Sremmurd</td>\n",
       "      <td>2</td>\n",
       "      <td>2</td>\n",
       "    </tr>\n",
       "    <tr>\n",
       "      <th>22</th>\n",
       "      <td>The 1975</td>\n",
       "      <td>2</td>\n",
       "      <td>2</td>\n",
       "    </tr>\n",
       "    <tr>\n",
       "      <th>133</th>\n",
       "      <td>Solange</td>\n",
       "      <td>2</td>\n",
       "      <td>2</td>\n",
       "    </tr>\n",
       "    <tr>\n",
       "      <th>6</th>\n",
       "      <td>Lil B</td>\n",
       "      <td>2</td>\n",
       "      <td>1</td>\n",
       "    </tr>\n",
       "    <tr>\n",
       "      <th>69</th>\n",
       "      <td>Young Thug</td>\n",
       "      <td>2</td>\n",
       "      <td>1</td>\n",
       "    </tr>\n",
       "    <tr>\n",
       "      <th>89</th>\n",
       "      <td>Christine and the Queens</td>\n",
       "      <td>2</td>\n",
       "      <td>1</td>\n",
       "    </tr>\n",
       "    <tr>\n",
       "      <th>95</th>\n",
       "      <td>Jamie xx</td>\n",
       "      <td>2</td>\n",
       "      <td>2</td>\n",
       "    </tr>\n",
       "    <tr>\n",
       "      <th>8</th>\n",
       "      <td>Tame Impala</td>\n",
       "      <td>2</td>\n",
       "      <td>2</td>\n",
       "    </tr>\n",
       "    <tr>\n",
       "      <th>68</th>\n",
       "      <td>Lorde</td>\n",
       "      <td>2</td>\n",
       "      <td>2</td>\n",
       "    </tr>\n",
       "  </tbody>\n",
       "</table>\n",
       "</div>"
      ],
      "text/plain": [
       "                       artist  appearances  appearances_no_ft\n",
       "60                      Drake            7                  4\n",
       "18                    Beyoncé            5                  4\n",
       "44                 Kanye West            4                  4\n",
       "56                    Rihanna            4                  4\n",
       "25                Nicki Minaj            4                  3\n",
       "16                Frank Ocean            4                  4\n",
       "55                  Rick Ross            3                  1\n",
       "63                      Robyn            3                  3\n",
       "12                     Future            3                  3\n",
       "53                 Charli XCX            3                  2\n",
       "90             Kendrick Lamar            3                  3\n",
       "122                 FKA twigs            2                  2\n",
       "42          Waka Flocka Flame            2                  1\n",
       "32                 King Krule            2                  2\n",
       "67                 A$AP Rocky            2                  1\n",
       "113              Lana Del Rey            2                  2\n",
       "29                      Adele            2                  2\n",
       "76              Justin Bieber            2                  1\n",
       "162              Lil Uzi Vert            2                  1\n",
       "58               Rae Sremmurd            2                  2\n",
       "22                   The 1975            2                  2\n",
       "133                   Solange            2                  2\n",
       "6                       Lil B            2                  1\n",
       "69                 Young Thug            2                  1\n",
       "89   Christine and the Queens            2                  1\n",
       "95                   Jamie xx            2                  2\n",
       "8                 Tame Impala            2                  2\n",
       "68                      Lorde            2                  2"
      ]
     },
     "execution_count": 18,
     "metadata": {},
     "output_type": "execute_result"
    }
   ],
   "source": [
    "df.sort_values(by='appearances', ascending=False)[df['appearances'] > 1]"
   ]
  },
  {
   "cell_type": "code",
   "execution_count": null,
   "metadata": {},
   "outputs": [],
   "source": []
  }
 ],
 "metadata": {
  "kernelspec": {
   "display_name": "Python 3",
   "language": "python",
   "name": "python3"
  },
  "language_info": {
   "codemirror_mode": {
    "name": "ipython",
    "version": 3
   },
   "file_extension": ".py",
   "mimetype": "text/x-python",
   "name": "python",
   "nbconvert_exporter": "python",
   "pygments_lexer": "ipython3",
   "version": "3.7.1"
  }
 },
 "nbformat": 4,
 "nbformat_minor": 2
}
